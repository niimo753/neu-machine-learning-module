{
 "cells": [
  {
   "cell_type": "markdown",
   "id": "c5f2a256",
   "metadata": {},
   "source": [
    "__HOMEWORK 5__\n",
    "\n",
    "Full name: Nguyễn Thị Minh Ngọc\n",
    "<br>\n",
    "Student ID: 11219280\n",
    "<br>\n",
    "Class: DSEB 63"
   ]
  },
  {
   "cell_type": "code",
   "execution_count": 1,
   "id": "5ceef04d",
   "metadata": {},
   "outputs": [],
   "source": [
    "import pandas as pd\n",
    "import numpy as np\n",
    "import matplotlib.pyplot as plt"
   ]
  },
  {
   "cell_type": "markdown",
   "id": "bed9c9cb",
   "metadata": {},
   "source": [
    "# Ex1"
   ]
  },
  {
   "cell_type": "code",
   "execution_count": 2,
   "id": "868182f5",
   "metadata": {},
   "outputs": [],
   "source": [
    "def extract_data(file_path):\n",
    "    data = pd.read_csv(file_path, skiprows=1, header=None)\n",
    "    x = data[0]\n",
    "    y = data[1]\n",
    "    return x, y\n",
    "\n",
    "class LinearRegressionTwoC:\n",
    "    def __init__(self):\n",
    "        self._w = None\n",
    "        \n",
    "    def model_fit(self, x, t):\n",
    "        x_1 = np.c_[x, np.array(x**2)]\n",
    "        x_1 = np.c_[x_1, np.ones(x.shape[0])]\n",
    "        self._w = np.linalg.inv(x_1.T.dot(x_1))\n",
    "        self._w = self._w.dot(x_1.T.dot(t))\n",
    "        return self._w\n",
    "    \n",
    "    def predict(self, x):\n",
    "        return self._w[0]*x + self._w[1]"
   ]
  },
  {
   "cell_type": "code",
   "execution_count": 4,
   "id": "6b98ac5a",
   "metadata": {},
   "outputs": [
    {
     "name": "stdout",
     "output_type": "stream",
     "text": [
      "w0 = -100.00022213872332\n",
      "w1 = 1.0000019878799484\n",
      "w2 = 2000.0057942500327\n"
     ]
    }
   ],
   "source": [
    "x, y = extract_data(\"../data/data_square.csv\")\n",
    "model = LinearRegressionTwoC()\n",
    "w = model.model_fit(x, y)\n",
    "print(\"w0 = {}\\nw1 = {}\\nw2 = {}\".format(w[0], w[1], w[2]))"
   ]
  }
 ],
 "metadata": {
  "kernelspec": {
   "display_name": "Python 3 (ipykernel)",
   "language": "python",
   "name": "python3"
  },
  "language_info": {
   "codemirror_mode": {
    "name": "ipython",
    "version": 3
   },
   "file_extension": ".py",
   "mimetype": "text/x-python",
   "name": "python",
   "nbconvert_exporter": "python",
   "pygments_lexer": "ipython3",
   "version": "3.11.7"
  }
 },
 "nbformat": 4,
 "nbformat_minor": 5
}
